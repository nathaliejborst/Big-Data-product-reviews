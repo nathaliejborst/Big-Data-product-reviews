{
 "cells": [
  {
   "cell_type": "code",
   "execution_count": 99,
   "id": "d5e2a4d1",
   "metadata": {},
   "outputs": [],
   "source": [
    "import pandas as pd\n",
    "import unidecode\n",
    "import re"
   ]
  },
  {
   "cell_type": "code",
   "execution_count": 85,
   "id": "a2bfa52f",
   "metadata": {},
   "outputs": [],
   "source": [
    "df_1 = pd.read_csv('reviews/train-1.csv')"
   ]
  },
  {
   "cell_type": "code",
   "execution_count": 86,
   "id": "9a975bd6",
   "metadata": {},
   "outputs": [],
   "source": [
    "df_1.columns\n",
    "df_1.drop(columns=['Unnamed: 0'],inplace=True) # drop index column"
   ]
  },
  {
   "cell_type": "code",
   "execution_count": 87,
   "id": "40fd066d",
   "metadata": {},
   "outputs": [
    {
     "name": "stdout",
     "output_type": "stream",
     "text": [
      "<class 'pandas.core.frame.DataFrame'>\n",
      "RangeIndex: 1200 entries, 0 to 1199\n",
      "Data columns (total 11 columns):\n",
      " #   Column               Non-Null Count  Dtype \n",
      "---  ------               --------------  ----- \n",
      " 0   product_id           1200 non-null   object\n",
      " 1   product_parent       1200 non-null   int64 \n",
      " 2   product_title        1188 non-null   object\n",
      " 3   vine                 1200 non-null   object\n",
      " 4   verified_purchase    1200 non-null   object\n",
      " 5   review_headline      1118 non-null   object\n",
      " 6   review_body          1200 non-null   object\n",
      " 7   review_date          1200 non-null   object\n",
      " 8   marketplace_id       1200 non-null   int64 \n",
      " 9   product_category_id  1200 non-null   int64 \n",
      " 10  label                1200 non-null   bool  \n",
      "dtypes: bool(1), int64(3), object(7)\n",
      "memory usage: 95.0+ KB\n"
     ]
    }
   ],
   "source": [
    "df_1.info() # missing data for product_title and review_headline"
   ]
  },
  {
   "cell_type": "code",
   "execution_count": 113,
   "id": "4d02f60c",
   "metadata": {},
   "outputs": [],
   "source": [
    "def normalize_text(t):\n",
    "    t = str(t)\n",
    "    t = unidecode.unidecode(t) # convert to ascii\n",
    "    t = t.lower()\n",
    "    t = re.sub(r\"[^a-zA-Z0-9]+\", ' ', t) # remove special characters\n",
    "    return t\n",
    "    "
   ]
  },
  {
   "cell_type": "code",
   "execution_count": 114,
   "id": "7e4ea7cf",
   "metadata": {},
   "outputs": [
    {
     "data": {
      "text/plain": [
       "0                                        green zone dvd \n",
       "1                               le secret de green knowe\n",
       "2                                   a disney sketchbook \n",
       "3                                   your erroneous zones\n",
       "4                            konig der mathematik junior\n",
       "                              ...                       \n",
       "1195                                       american gods\n",
       "1196                                           happiness\n",
       "1197                                         lord of war\n",
       "1198    world without end the kingsbridge novels book 2 \n",
       "1199                        endless forms most beautiful\n",
       "Name: product_title, Length: 1200, dtype: object"
      ]
     },
     "execution_count": 114,
     "metadata": {},
     "output_type": "execute_result"
    }
   ],
   "source": [
    "df_1['product_title']\n",
    "\n",
    "# check for duplicate movie titles by normalizing:\n",
    "df_1['product_title'].apply(lambda x: normalize_text(x))"
   ]
  },
  {
   "cell_type": "code",
   "execution_count": 68,
   "id": "d86fca9c",
   "metadata": {},
   "outputs": [
    {
     "data": {
      "text/plain": [
       "False    1078\n",
       "True      122\n",
       "Name: product_id, dtype: int64"
      ]
     },
     "execution_count": 68,
     "metadata": {},
     "output_type": "execute_result"
    }
   ],
   "source": [
    "# check if there are any duplicate records in the data\n",
    "df_1.duplicated().value_counts() # no exact duplicates \n",
    "\n",
    "# check if product_id - product_title pairs are consistent\n",
    "dupl_productids = df_1[df_1['product_id'].duplicated()].sort_values(by=['product_id'],ascending=True) # get products that appear more than once in data set\n",
    "\n",
    "\n",
    "\n",
    "\n",
    "\n"
   ]
  },
  {
   "cell_type": "code",
   "execution_count": null,
   "id": "12e2e207",
   "metadata": {},
   "outputs": [],
   "source": []
  }
 ],
 "metadata": {
  "kernelspec": {
   "display_name": "Python 3 (ipykernel)",
   "language": "python",
   "name": "python3"
  },
  "language_info": {
   "codemirror_mode": {
    "name": "ipython",
    "version": 3
   },
   "file_extension": ".py",
   "mimetype": "text/x-python",
   "name": "python",
   "nbconvert_exporter": "python",
   "pygments_lexer": "ipython3",
   "version": "3.9.7"
  }
 },
 "nbformat": 4,
 "nbformat_minor": 5
}
